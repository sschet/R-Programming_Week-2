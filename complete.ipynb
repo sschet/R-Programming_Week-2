{
 "cells": [
  {
   "cell_type": "code",
   "execution_count": 1,
   "metadata": {},
   "outputs": [],
   "source": [
    "# Import library\n",
    "import pandas as pd"
   ]
  },
  {
   "cell_type": "code",
   "execution_count": 2,
   "metadata": {},
   "outputs": [],
   "source": [
    "# Create a function\n",
    "def complete(pollutant, monitors):\n",
    "    # Create 'total'\n",
    "    global total\n",
    "    total = 0\n",
    "    # Loop through 'monitors' & convert the numbers to the appropriate strings\n",
    "    for x in monitors:\n",
    "        if x < 10:\n",
    "            monitor_num = '00' + str(x)\n",
    "        elif x < 100:\n",
    "            monitor_num = '0' + str(x)\n",
    "        elif x < 333:\n",
    "            monitor_num = str(x)\n",
    "        # Create the file path\n",
    "        path = '/home/stephen/specdata/' + monitor_num + '.csv'\n",
    "        # Read the csv file into 'df'\n",
    "        df = pd.read_csv(path)\n",
    "        # Keep a running total of the number of observations in each dataframe\n",
    "        total = total + df[pollutant].count()\n",
    "    # Print\n",
    "    print(total)"
   ]
  },
  {
   "cell_type": "code",
   "execution_count": 3,
   "metadata": {},
   "outputs": [
    {
     "name": "stdout",
     "output_type": "stream",
     "text": [
      "1158\n"
     ]
    }
   ],
   "source": [
    "# Invoke the function & pass parameters\n",
    "complete('sulfate', [1, 2])"
   ]
  },
  {
   "cell_type": "code",
   "execution_count": null,
   "metadata": {},
   "outputs": [],
   "source": []
  }
 ],
 "metadata": {
  "kernelspec": {
   "display_name": "Python 3",
   "language": "python",
   "name": "python3"
  },
  "language_info": {
   "codemirror_mode": {
    "name": "ipython",
    "version": 3
   },
   "file_extension": ".py",
   "mimetype": "text/x-python",
   "name": "python",
   "nbconvert_exporter": "python",
   "pygments_lexer": "ipython3",
   "version": "3.8.5"
  }
 },
 "nbformat": 4,
 "nbformat_minor": 4
}
