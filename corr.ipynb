{
 "cells": [
  {
   "cell_type": "code",
   "execution_count": 13,
   "metadata": {},
   "outputs": [],
   "source": [
    "# Import libraries\n",
    "import pandas as pd\n",
    "from pandas import DataFrame\n",
    "from scipy import stats"
   ]
  },
  {
   "cell_type": "code",
   "execution_count": 75,
   "metadata": {},
   "outputs": [],
   "source": [
    "# Create empty lists\n",
    "sulfate_list = list()\n",
    "nitrate_list = list()\n",
    "corr_list = list()\n",
    "\n",
    "# Create a function whose 2 parameters take a list & integer as arguments\n",
    "def correlation(monitors, threshold):\n",
    "    # Loop through 'monitors' & convert the numbers to the appropriate strings\n",
    "    for x in monitors:\n",
    "        if x < 10:\n",
    "            monitor_num = '00' + str(x)\n",
    "        elif x < 100:\n",
    "            monitor_num = '0' + str(x)\n",
    "        elif x < 333:\n",
    "            monitor_num = str(x)\n",
    "        # Create the file path\n",
    "        path = '/home/stephen/specdata/' + monitor_num + '.csv'\n",
    "        # Read the csv file into 'df'\n",
    "        df = pd.read_csv(path)\n",
    "        # Check if the number of observations is greater than the threshold. If it\n",
    "        # is equal to or below, then add a zero to 'corr_list'.\n",
    "        if df['sulfate'].count() <= threshold or df['nitrate'].count() <= threshold:\n",
    "            corr_list.append(0)\n",
    "            continue\n",
    "        # When the number of observations is greater than the threshold, extract all\n",
    "        # the values greater than zero & store them in a list. You need to do this \n",
    "        # because the correlation cannot be found when you have NaNs in the data.\n",
    "        else:\n",
    "            for key, value in df['sulfate'].iteritems():\n",
    "                if value > 0:\n",
    "                    sulfate_list.append(value)\n",
    "            for key, value in df['nitrate'].iteritems():\n",
    "                if value > 0:\n",
    "                    nitrate_list.append(value)\n",
    "            # The number of observations of sulfate & nitrate aren't always equal \n",
    "            # so delete the extra values from the larger list\n",
    "            if len(sulfate_list) < len(nitrate_list):\n",
    "                dif = len(nitrate_list) - len(sulfate_list)\n",
    "                i = 0\n",
    "                while True:\n",
    "                    del nitrate_list[len(sulfate_list)]\n",
    "                    i += 1\n",
    "                    if i == dif:\n",
    "                        break\n",
    "            if len(nitrate_list) < len(sulfate_list):\n",
    "                dif = len(sulfate_list) - len(nitrate_list)\n",
    "                i = 0\n",
    "                while True:\n",
    "                    del sulfate_list[len(nitrate_list)]\n",
    "                    i += 1\n",
    "                    if i == dif:\n",
    "                        break\n",
    "            # Convert the lists to dataframes\n",
    "            df2 = DataFrame(sulfate_list, columns=['sulfate'])\n",
    "            df3 = DataFrame(nitrate_list, columns=['nitrate'])\n",
    "            # Find the correlation & add it to 'corr_list'\n",
    "            corr = stats.pearsonr(df2['sulfate'], df3['nitrate'])\n",
    "            corr_list.append(corr)\n",
    "    # Print\n",
    "    print(corr_list)"
   ]
  },
  {
   "cell_type": "code",
   "execution_count": 76,
   "metadata": {},
   "outputs": [
    {
     "name": "stdout",
     "output_type": "stream",
     "text": [
      "[(-0.289178382206544, 0.0015657886758838374), (-0.14610856643763973, 5.998194669311088e-07)]\n"
     ]
    }
   ],
   "source": [
    "correlation(list(range(1,3)), 5)"
   ]
  }
 ],
 "metadata": {
  "kernelspec": {
   "display_name": "Python 3",
   "language": "python",
   "name": "python3"
  },
  "language_info": {
   "codemirror_mode": {
    "name": "ipython",
    "version": 3
   },
   "file_extension": ".py",
   "mimetype": "text/x-python",
   "name": "python",
   "nbconvert_exporter": "python",
   "pygments_lexer": "ipython3",
   "version": "3.8.5"
  }
 },
 "nbformat": 4,
 "nbformat_minor": 4
}
