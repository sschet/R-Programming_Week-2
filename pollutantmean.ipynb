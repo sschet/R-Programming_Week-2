{
 "cells": [
  {
   "cell_type": "code",
   "execution_count": 1,
   "metadata": {},
   "outputs": [],
   "source": [
    "# Import library\n",
    "import pandas as pd"
   ]
  },
  {
   "cell_type": "code",
   "execution_count": 17,
   "metadata": {},
   "outputs": [],
   "source": [
    "# Create a function\n",
    "def pollutantmean(pollutant, monitor_start, monitor_end):\n",
    "    # Add 1 to 'monitor_end' because the range function doesn't include the last number\n",
    "    final_end_num = monitor_end + 1\n",
    "    # Create a list of numbers from 'monitor_start' to 'final_end_num'\n",
    "    monitor_list = list(range(monitor_start, final_end_num))\n",
    "    # Create an empty dataframe\n",
    "    global df_concat\n",
    "    df_concat = pd.DataFrame()\n",
    "    # Loop through 'monitor_list' & convert the numbers to the appropriate strings\n",
    "    for x in monitor_list:\n",
    "        if x < 10:\n",
    "            monitor_num = '00' + str(x)\n",
    "        elif x < 100:\n",
    "            monitor_num = '0' + str(x)\n",
    "        elif x < 333:\n",
    "            monitor_num = str(x)\n",
    "        # Create the file path\n",
    "        path = '/home/stephen/specdata/' + monitor_num + '.csv'\n",
    "        # Read the csv file into 'df'\n",
    "        df = pd.read_csv(path)\n",
    "        # Add 'df' to 'df_concat' vertically\n",
    "        df_concat = pd.concat((df_concat, df[pollutant]), ignore_index=True)\n",
    "    # Rename the sole column from '0' to the 'pollutant'\n",
    "    df_concat.columns = [pollutant]\n",
    "    # Calculate the mean of the sole column & print it out\n",
    "    df_mean = df_concat.mean()\n",
    "    print(df_mean)"
   ]
  },
  {
   "cell_type": "code",
   "execution_count": 18,
   "metadata": {},
   "outputs": [
    {
     "name": "stdout",
     "output_type": "stream",
     "text": [
      "sulfate    4.402199\n",
      "dtype: float64\n"
     ]
    }
   ],
   "source": [
    "# Invoke the function & pass the desired parameters\n",
    "pollutantmean('sulfate', 1, 2)"
   ]
  },
  {
   "cell_type": "code",
   "execution_count": null,
   "metadata": {},
   "outputs": [],
   "source": []
  }
 ],
 "metadata": {
  "kernelspec": {
   "display_name": "Python 3",
   "language": "python",
   "name": "python3"
  },
  "language_info": {
   "codemirror_mode": {
    "name": "ipython",
    "version": 3
   },
   "file_extension": ".py",
   "mimetype": "text/x-python",
   "name": "python",
   "nbconvert_exporter": "python",
   "pygments_lexer": "ipython3",
   "version": "3.8.5"
  }
 },
 "nbformat": 4,
 "nbformat_minor": 4
}
